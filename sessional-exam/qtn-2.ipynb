{
 "cells": [
  {
   "cell_type": "code",
   "execution_count": 3,
   "metadata": {},
   "outputs": [
    {
     "name": "stdout",
     "output_type": "stream",
     "text": [
      "Sum of diagonal elements: 3\n"
     ]
    }
   ],
   "source": [
    "import numpy as np\n",
    "\n",
    "def diagonal_sum(arr):\n",
    "  \"\"\"Calculates the sum of the diagonal elements in a NumPy array.\n",
    "\n",
    "  Args:\n",
    "      arr: A NumPy array.\n",
    "\n",
    "  Returns:\n",
    "      The sum of the diagonal elements.\n",
    "  \"\"\"\n",
    "\n",
    "  return np.trace(arr)\n",
    "\n",
    "# Example usage\n",
    "arr = np.array([[1, 0, 0], [0, 1, 0], [0, 0, 1]])\n",
    "diag_sum = diagonal_sum(arr)\n",
    "print(\"Sum of diagonal elements:\", diag_sum)  # Output: 3\n"
   ]
  }
 ],
 "metadata": {
  "kernelspec": {
   "display_name": "Python 3",
   "language": "python",
   "name": "python3"
  },
  "language_info": {
   "codemirror_mode": {
    "name": "ipython",
    "version": 3
   },
   "file_extension": ".py",
   "mimetype": "text/x-python",
   "name": "python",
   "nbconvert_exporter": "python",
   "pygments_lexer": "ipython3",
   "version": "3.10.6"
  }
 },
 "nbformat": 4,
 "nbformat_minor": 2
}
