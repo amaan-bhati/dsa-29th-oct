{
 "cells": [
  {
   "cell_type": "code",
   "execution_count": 3,
   "metadata": {},
   "outputs": [],
   "source": [
    "\n",
    "arr=np.random.rand(1,15)"
   ]
  },
  {
   "cell_type": "code",
   "execution_count": 4,
   "metadata": {},
   "outputs": [
    {
     "name": "stdout",
     "output_type": "stream",
     "text": [
      "Values greater than the mean: [0.98255593 0.86138417 0.79059056 0.95073432 0.9443919  0.66446877]\n"
     ]
    }
   ],
   "source": [
    "import numpy as np\n",
    "\n",
    "def extract_above_mean(arr):\n",
    "  \"\"\"Extracts all values from a 1D NumPy array that are greater than the mean.\n",
    "\n",
    "  Args:\n",
    "      arr: A 1D NumPy array.\n",
    "\n",
    "  Returns:\n",
    "      A new NumPy array containing values greater than the mean.\n",
    "  \"\"\"\n",
    "\n",
    "  mean_val = np.mean(arr)\n",
    "  return arr[arr > mean_val]\n",
    "\n",
    "# Example usage\n",
    "arr = np.random.rand(10)  # Create a 1D array of random values\n",
    "above_mean = extract_above_mean(arr)\n",
    "print(\"Values greater than the mean:\", above_mean)\n"
   ]
  }
 ],
 "metadata": {
  "kernelspec": {
   "display_name": "Python 3",
   "language": "python",
   "name": "python3"
  },
  "language_info": {
   "codemirror_mode": {
    "name": "ipython",
    "version": 3
   },
   "file_extension": ".py",
   "mimetype": "text/x-python",
   "name": "python",
   "nbconvert_exporter": "python",
   "pygments_lexer": "ipython3",
   "version": "3.10.6"
  }
 },
 "nbformat": 4,
 "nbformat_minor": 2
}
