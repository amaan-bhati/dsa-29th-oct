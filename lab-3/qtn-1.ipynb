{
 "cells": [
  {
   "cell_type": "code",
   "execution_count": null,
   "metadata": {},
   "outputs": [],
   "source": [
    "import numpy as np"
   ]
  },
  {
   "cell_type": "code",
   "execution_count": null,
   "metadata": {},
   "outputs": [],
   "source": [
    "arr_list = np.array([1, 2, 3, 4, 5])\n",
    "arr_zeros = np.zeros(5)\n",
    "arr_ones = np.ones(5)\n",
    "arr_arange = np.arange(1, 11, 2)\n",
    "\n",
    "print(\"Array created using lists:\", arr_list)\n",
    "print(\"Array created using zeros:\", arr_zeros)\n",
    "print(\"Array created using ones:\", arr_ones)\n",
    "print(\"Array created using arange:\", arr_arange)"
   ]
  },
  {
   "cell_type": "code",
   "execution_count": null,
   "metadata": {},
   "outputs": [],
   "source": [
    "result_addition = arr_list + arr_ones\n",
    "result_subtraction = arr_arange - arr_zeros\n",
    "result_multiplication = arr_list * 2\n",
    "result_division = arr_arange / 2\n",
    "\n",
    "print(\"Addition result:\", result_addition)\n",
    "print(\"Subtraction result:\", result_subtraction)\n",
    "print(\"Multiplication result:\", result_multiplication)\n",
    "print(\"Division result:\", result_division)"
   ]
  },
  {
   "cell_type": "code",
   "execution_count": null,
   "metadata": {},
   "outputs": [],
   "source": [
    "#for indexing\n",
    "print(\"First element of arr_list:\", arr_list[0])\n",
    "print(\"Third element of arr_arange:\", arr_arange[2])\n",
    "\n",
    "#for slicing\n",
    "print(\"Slicing arr_list from index 1 to 3:\", arr_list[1:4])\n",
    "print(\"Slicing arr_arange from index 2 to the end:\", arr_arange[2:])"
   ]
  },
  {
   "cell_type": "code",
   "execution_count": null,
   "metadata": {},
   "outputs": [],
   "source": [
    "mean_value = np.mean(arr_list)\n",
    "median_value = np.median(arr_arange)\n",
    "\n",
    "from scipy.stats import mode\n",
    "mode_value = mode(arr_list)\n",
    "\n",
    "print(\"Mean:\", mean_value)\n",
    "print(\"Median:\", median_value)\n",
    "print(\"Mode:\", mode_value.mode[3])"
   ]
  },
  {
   "cell_type": "code",
   "execution_count": null,
   "metadata": {},
   "outputs": [],
   "source": [
    "# Reshaping\n",
    "reshaped_arr = arr_list.reshape(1, 5)  # Reshape to a 1x5 matrix\n",
    "print(\"Reshaped array:\", reshaped_arr)\n",
    "\n",
    "# Transposing\n",
    "transposed_arr = np.transpose(arr_arange.reshape(2, 5))  # Transpose a 2x5 matrix\n",
    "print(\"Transposed array:\")\n",
    "print(transposed_arr)"
   ]
  }
 ],
 "metadata": {
  "kernelspec": {
   "display_name": "Python 3",
   "language": "python",
   "name": "python3"
  },
  "language_info": {
   "codemirror_mode": {
    "name": "ipython",
    "version": 3
   },
   "file_extension": ".py",
   "mimetype": "text/x-python",
   "name": "python",
   "nbconvert_exporter": "python",
   "pygments_lexer": "ipython3",
   "version": "3.12.1"
  }
 },
 "nbformat": 4,
 "nbformat_minor": 2
}
