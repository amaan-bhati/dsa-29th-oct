{
 "cells": [
  {
   "cell_type": "code",
   "execution_count": null,
   "metadata": {},
   "outputs": [],
   "source": [
    "import numpy as np\n",
    "import matplotlib.pyplot as plt"
   ]
  },
  {
   "cell_type": "code",
   "execution_count": null,
   "metadata": {},
   "outputs": [],
   "source": [
    "np.random.seed(42) \n",
    "temperatures = np.random.randint(10, 31, size=168)\n",
    "\n",
    "mean_temp = np.mean(temperatures)\n",
    "max_temp = np.max(temperatures)\n",
    "min_temp = np.min(temperatures)\n",
    "std_dev = np.std(temperatures)\n",
    "\n",
    "print(f\"Mean temperature: {mean_temp:.2f}°C\")\n",
    "print(f\"Maximum temperature: {max_temp}°C\")\n",
    "print(f\"Minimum temperature: {min_temp}°C\")\n",
    "print(f\"Standard deviation: {std_dev:.2f}°C\")"
   ]
  },
  {
   "cell_type": "code",
   "execution_count": null,
   "metadata": {},
   "outputs": [],
   "source": [
    "daily_temps = temperatures.reshape(7, 24)\n",
    "daily_means = np.mean(daily_temps, axis=1)\n",
    "max_temp_hours = np.argmax(daily_temps, axis=1)\n",
    "\n",
    "print(\"Mean temperature for each day:\")\n",
    "print(daily_means)\n",
    "print(\"Hour of maximum temperature for each day:\")\n",
    "print(max_temp_hours)"
   ]
  },
  {
   "cell_type": "code",
   "execution_count": null,
   "metadata": {},
   "outputs": [],
   "source": [
    "threshold = 25\n",
    "high_temp_indices = np.where(temperatures > threshold)[0]\n",
    "high_temp_count = len(high_temp_indices)\n",
    "\n",
    "print(\"Indices of temperatures exceeding threshold:\", high_temp_indices)\n",
    "print(\"Number of times threshold exceeded:\", high_temp_count)"
   ]
  },
  {
   "cell_type": "code",
   "execution_count": null,
   "metadata": {},
   "outputs": [],
   "source": [
    "temp_deltas = np.diff(temperatures)\n",
    "max_positive_change = np.max(temp_deltas)\n",
    "max_negative_change = np.min(temp_deltas)\n",
    "max_positive_change_hour = np.argmax(temp_deltas) + 1  # Adjust for diff\n",
    "max_negative_change_hour = np.argmin(temp_deltas) + 1\n",
    "\n",
    "print(\"Hour with maximum positive change:\", max_positive_change_hour)\n",
    "print(\"Hour with maximum negative change:\", max_negative_change_hour)"
   ]
  },
  {
   "cell_type": "code",
   "execution_count": null,
   "metadata": {},
   "outputs": [],
   "source": [
    "day_to_plot = 3 \n",
    "plt.plot(daily_temps[day_to_plot])\n",
    "plt.xlabel(\"Hour\")\n",
    "plt.ylabel(\"Temperature (°C)\")\n",
    "plt.title(f\"Hourly Temperatures for Day {day_to_plot + 1}\")\n",
    "plt.show()"
   ]
  },
  {
   "cell_type": "code",
   "execution_count": null,
   "metadata": {},
   "outputs": [],
   "source": [
    "plt.hist(temperatures, bins=10)\n",
    "plt.xlabel(\"Temperature (°C)\")\n",
    "plt.ylabel(\"Frequency\")\n",
    "plt.title(\"Distribution of Temperatures\")\n",
    "plt.show()"
   ]
  }
 ],
 "metadata": {
  "language_info": {
   "name": "python"
  }
 },
 "nbformat": 4,
 "nbformat_minor": 2
}
