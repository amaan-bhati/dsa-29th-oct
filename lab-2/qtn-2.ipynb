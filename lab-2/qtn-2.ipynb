{
 "cells": [
  {
   "cell_type": "code",
   "execution_count": null,
   "metadata": {},
   "outputs": [],
   "source": [
    "import random\n",
    "\n",
    "def choose_word():\n",
    "    words = [\"python\", \"java\", \"javascript\", \"ruby\", \"html\", \"css\"]\n",
    "    return random.choice(words)\n",
    "\n",
    "def display_word(word, guessed_letters):\n",
    "    display = \"\"\n",
    "    for letter in word:\n",
    "        if letter in guessed_letters:\n",
    "            display += letter + \" \"\n",
    "        else:\n",
    "            display += \"_ \"\n",
    "    return display.strip()\n",
    "\n",
    "def word_guessing_game():\n",
    "    print(\"Welcome to the Word Guessing Game!\")\n",
    "    secret_word = choose_word()\n",
    "    guessed_letters = []\n",
    "\n",
    "    max_attempts = 6\n",
    "    attempts = 0\n",
    "\n",
    "    while attempts < max_attempts:\n",
    "        print(\"\\nWord:\", display_word(secret_word, guessed_letters))\n",
    "        guess = input(\"Enter a letter: \").lower()\n",
    "\n",
    "        if len(guess) == 1 and guess.isalpha():\n",
    "            if guess in guessed_letters:\n",
    "                print(\"You already guessed that letter. Try again.\")\n",
    "            elif guess in secret_word:\n",
    "                print(\"Good guess!\")\n",
    "                guessed_letters.append(guess)\n",
    "            else:\n",
    "                print(\"Incorrect guess. Try again.\")\n",
    "                attempts += 1\n",
    "        else:\n",
    "            print(\"Invalid input. Please enter a single letter.\")\n",
    "\n",
    "        if set(guessed_letters) == set(secret_word):\n",
    "            print(\"\\nCongratulations! You guessed the word:\", secret_word)\n",
    "            break\n",
    "\n",
    "    else:\n",
    "        print(\"\\nSorry, you ran out of attempts. The correct word was:\", secret_word)\n",
    "\n",
    "if __name__ == \"__main__\":\n",
    "    word_guessing_game()\n"
   ]
  }
 ],
 "metadata": {
  "language_info": {
   "name": "python"
  }
 },
 "nbformat": 4,
 "nbformat_minor": 2
}
