{
 "cells": [
  {
   "cell_type": "code",
   "execution_count": 2,
   "metadata": {},
   "outputs": [
    {
     "name": "stdout",
     "output_type": "stream",
     "text": [
      "Welcome to the Guess the Number game!\n",
      "I have chosen a number between 1 and 10. Try to guess it.\n",
      "Too high! Try again.\n",
      "The correct number was 2. Thanks for playing!\n"
     ]
    }
   ],
   "source": [
    "import random\n",
    "\n",
    "def guess_the_number():\n",
    "    # Generate a random number between 1 and 100\n",
    "    secret_number = random.randint(1, 10)\n",
    "\n",
    "    print(\"Welcome to the Guess the Number game!\")\n",
    "    print(\"I have chosen a number between 1 and 10. Try to guess it.\")\n",
    "\n",
    "    while True:\n",
    "        # Get user's guess\n",
    "        guess = int(input(\"Enter your guess: \"))\n",
    "\n",
    "        # Check if the guess is correct\n",
    "        if guess == secret_number:\n",
    "            print(\"Congratulations! You guessed the correct number.\")\n",
    "            break  # Exit the loop if the guess is correct\n",
    "        elif guess < secret_number:\n",
    "            print(\"Too low! Try again.\")\n",
    "        else:\n",
    "            print(\"Too high! Try again.\")\n",
    "\n",
    "        # Ask if the user wants to play again\n",
    "        play_again = input(\"Do you want to play again? (yes/no): \").lower()\n",
    "        if play_again != 'yes':\n",
    "            print(f\"The correct number was {secret_number}. Thanks for playing!\")\n",
    "            break\n",
    "\n",
    "if __name__ == \"__main__\":\n",
    "    guess_the_number()\n"
   ]
  },
  {
   "cell_type": "code",
   "execution_count": 4,
   "metadata": {},
   "outputs": [
    {
     "name": "stdout",
     "output_type": "stream",
     "text": [
      "Welcome to the Guess the Number game!\n",
      "I have chosen a number between 1 and 10. Try to guess it.\n",
      "Too low! Try again.\n",
      "Too low! Try again.\n",
      "Too low! Try again.\n",
      "Too low! Try again.\n",
      "Congratulations! You guessed the correct number in 5 attempts.\n"
     ]
    }
   ],
   "source": [
    "import random\n",
    "\n",
    "def guess_the_number():\n",
    "    secret_number = random.randint(1, 10)\n",
    "    \n",
    "    max_attempts = 7\n",
    "    attempts = 0\n",
    "\n",
    "    print(\"Welcome to the Guess the Number game!\")\n",
    "    print(\"I have chosen a number between 1 and 10. Try to guess it.\")\n",
    "\n",
    "    while attempts < max_attempts:\n",
    "        # Get user's guess\n",
    "        guess = int(input(\"Enter your guess: \"))\n",
    "        \n",
    "        attempts += 1\n",
    "\n",
    "        # Check if the guess is correct\n",
    "        if guess == secret_number:\n",
    "            print(f\"Congratulations! You guessed the correct number in {attempts} attempts.\")\n",
    "            break  # Exit the loop if the guess is correct\n",
    "        elif guess < secret_number:\n",
    "            print(\"Too low! Try again.\")\n",
    "        else:\n",
    "            print(\"Too high! Try again.\")\n",
    "\n",
    "    else:\n",
    "        print(f\"Sorry, you've reached the maximum number of attempts ({max_attempts}).\")\n",
    "        print(f\"The correct number was {secret_number}. Thanks for playing!\")\n",
    "\n",
    "if __name__ == \"__main__\":\n",
    "    guess_the_number()\n",
    "\n",
    "\n",
    "\n",
    "\n"
   ]
  },
  {
   "cell_type": "code",
   "execution_count": null,
   "metadata": {},
   "outputs": [],
   "source": []
  }
 ],
 "metadata": {
  "kernelspec": {
   "display_name": "Python 3",
   "language": "python",
   "name": "python3"
  },
  "language_info": {
   "codemirror_mode": {
    "name": "ipython",
    "version": 3
   },
   "file_extension": ".py",
   "mimetype": "text/x-python",
   "name": "python",
   "nbconvert_exporter": "python",
   "pygments_lexer": "ipython3",
   "version": "3.10.6"
  }
 },
 "nbformat": 4,
 "nbformat_minor": 2
}
